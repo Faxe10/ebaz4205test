{
 "cells": [
  {
   "cell_type": "code",
   "execution_count": 78,
   "metadata": {},
   "outputs": [],
   "source": [
    "import pandas as pd\n",
    "from pynq import Overlay,allocate\n",
    "from pynq.lib import AxiGPIO\n",
    "import time\n",
    "\n",
    "import numpy as np\n",
    "import sys\n",
    "path_overlay = \"design_1.bit\"\n",
    "\n",
    "overlay = Overlay(path_overlay)\n",
    "high_channel1 = overlay.counts_ch1.channel1\n",
    "low_channel1 = overlay.counts_ch1.channel2\n",
    "high_channel2 = overlay.counts_ch2.channel1\n",
    "low_channel2 = overlay.counts_ch2.channel2\n",
    "start_high_delay = overlay.start_high_delay\n",
    "start = overlay.start_measurment"
   ]
  },
  {
   "cell_type": "code",
   "execution_count": 99,
   "metadata": {},
   "outputs": [],
   "source": [
    "\n",
    "def read_channels():\n",
    "    ch1_high_counts = high_channel1.read()\n",
    "    ch1_low_counts = low_channel1.read()\n",
    "    ch2_high_counts = high_channel2.read()\n",
    "    ch2_low_counts = low_channel2.read() \n",
    "    row = {\n",
    "        \"Ch1 high Counts\":ch1_high_counts,\n",
    "        \"Ch1 low Counts\": ch1_low_counts,\n",
    "        \"Ch2 high counts\": ch2_high_counts,\n",
    "        \"Ch2 low counts\": ch2_low_counts,\n",
    "    }\n",
    "    df = pd.DataFrame([row])\n",
    "    df.to_csv(file_name,mode=\"a\",header=False,index=False)\n",
    "\n",
    "\n",
    "def new_csv(filename):\n",
    "    cols = [\"Ch1 high Counts\", \"Ch1 low Counts\", \"Ch2 high Counts\", \"Ch2 low Counts\"]\n",
    "    # Leeres DF nur mit Spalten (keine Zeilen)\n",
    "    df = pd.DataFrame(columns=cols)\n",
    "    df.to_csv(filename, index=False)  # mode=\"w\" ist Standard → nur Header\n",
    "    \n",
    "\n",
    "start_high_delay.write(0,200)"
   ]
  },
  {
   "cell_type": "code",
   "execution_count": null,
   "metadata": {},
   "outputs": [],
   "source": [
    "file_name = \"measurment1.csv\"\n",
    "new_csv(file_name)\n",
    "start_high_delay.write(0,100)\n",
    "\n",
    "for i in range(10000):\n",
    "    start.write(0,1)\n",
    "    start.write(0,0)\n",
    "    time.sleep(0.1)\n",
    "    read_channels()\n",
    "    time.sleep(0.1)"
   ]
  },
  {
   "cell_type": "code",
   "execution_count": null,
   "metadata": {},
   "outputs": [],
   "source": []
  }
 ],
 "metadata": {
  "kernelspec": {
   "display_name": "Python 3",
   "language": "python",
   "name": "python3"
  }
 },
 "nbformat": 4,
 "nbformat_minor": 2
}
