{
 "cells": [
  {
   "metadata": {},
   "cell_type": "markdown",
   "source": "Setup",
   "id": "ebf9b5afb0463d0e"
  },
  {
   "metadata": {
    "ExecuteTime": {
     "end_time": "2025-10-22T12:18:58.331568Z",
     "start_time": "2025-10-22T12:18:58.328178Z"
    }
   },
   "cell_type": "code",
   "source": [
    "import pandas as pd\n",
    "file_name = \"measurment_2channels_much_runs.csv\"\n",
    "time_ramp = 100000000.0 # 100 ms\n",
    "time_rise = time_ramp * 0.5\n",
    "time_fall = time_ramp * 0.5\n",
    "v_max = 3.200\n",
    "v_min = 0"
   ],
   "id": "2cae46a8b9398c55",
   "outputs": [],
   "execution_count": 121
  },
  {
   "metadata": {},
   "cell_type": "markdown",
   "source": "used functions",
   "id": "832bc2c3f3dbfe73"
  },
  {
   "metadata": {
    "ExecuteTime": {
     "end_time": "2025-10-22T12:18:58.346615Z",
     "start_time": "2025-10-22T12:18:58.337528Z"
    }
   },
   "cell_type": "code",
   "source": [
    "def get_voltage(counts):\n",
    "    time = counts * 4\n",
    "    if (time <= time_rise):\n",
    "        #print(\"cal time rise\")\n",
    "        #print(v_max/ time_rise)\n",
    "        return (v_max/ time_rise) * time\n",
    "    elif (time <= time_rise + time_fall):\n",
    "        #print(\"cal time fall\")\n",
    "        return (v_max - ((v_max - v_min) / time_fall) * (time - time_rise))\n",
    "def get_diff(df_voltage):\n",
    "    mean = df_voltage.mean()\n",
    "    mean_ch1_high = mean[\"Ch1_high_voltage\"]\n",
    "    mean_ch1_low = mean[\"Ch1_low_voltage\"]\n",
    "    mean_ch2_high = mean[\"Ch2_high_voltage\"]\n",
    "    mean_ch2_low = mean[\"Ch2_low_voltage\"]\n",
    "    diff_high_ch1 = df_voltage[\"Ch1_high_voltage\"].map(lambda x : mean_ch1_high - x)\n",
    "    diff_low_ch1 = df_voltage[\"Ch1_low_voltage\"].map(lambda x : mean_ch1_low - x)\n",
    "    diff_high_ch2 = df_voltage[\"Ch2_high_voltage\"].map(lambda x : mean_ch2_high - x)\n",
    "    diff_low_ch2 = df_voltage[\"Ch2_low_voltage\"].map(lambda x : mean_ch2_low - x)\n",
    "    df_diff_mean = pd.concat([diff_high_ch1,diff_low_ch1,diff_high_ch2,diff_low_ch2], axis=1)\n",
    "    df_diff_mean = df_diff_mean.rename(columns={\"Ch2_low_voltage\":\"Ch2_low_diff_mean\",\"Ch2_high_voltage\":\"Ch2_high_diff_mean\",\"Ch1_low_voltage\":\"Ch1_low_diff_mean\",\"Ch1_high_voltage\":\"Ch1_high_mean\"})\n",
    "    return df_diff_mean\n",
    "\n",
    "def read_csv():\n",
    "    df = pd.read_csv(file_name)\n",
    "    df_voltage = df.map(get_voltage)\n",
    "    df_voltage = df_voltage.rename(columns={\"Ch1 high Counts\":\"Ch1_high_voltage\",\"Ch1 low Counts\":\"Ch1_low_voltage\",\"Ch2 high counts\":\"Ch2_high_voltage\",\"Ch2 low counts\":\"Ch2_low_voltage\"})\n",
    "    mean_voltage = df_voltage.mean()\n",
    "    min_voltage = df_voltage.min()\n",
    "    max_voltage = df_voltage.max()\n",
    "    #print(mean_voltage)\n",
    "    #print(min_voltage)\n",
    "    #print(max_voltage)\n",
    "    #print(df_voltage[\"Ch1_high_voltage\"])\n",
    "    return df_voltage"
   ],
   "id": "85f562e9c3606524",
   "outputs": [],
   "execution_count": 122
  },
  {
   "metadata": {},
   "cell_type": "markdown",
   "source": "start stuff",
   "id": "86ab12bde0ae22e1"
  },
  {
   "metadata": {
    "ExecuteTime": {
     "end_time": "2025-10-22T12:19:01.439612Z",
     "start_time": "2025-10-22T12:18:58.385996Z"
    }
   },
   "cell_type": "code",
   "source": [
    "df_voltage = read_csv()\n",
    "df_diff_mean = get_diff(df_voltage)\n",
    "df_prozessed = pd.concat([df_voltage,df_diff_mean], axis=1)\n",
    "output_file = file_name.split(\".\")[0] + \"_voltage.\" + file_name.split(\".\")[1]\n",
    "df_prozessed.to_csv(output_file)\n",
    "mean_voltage = df_prozessed.mean()\n",
    "min_voltage = df_prozessed.min()\n",
    "max_voltage = df_prozessed.max()\n",
    "print(\"min Voltage\")\n",
    "print(min_voltage)\n",
    "print(\"Max Voltage\")\n",
    "print(max_voltage)\n",
    "print(\"mean Voltage\")\n",
    "print(mean_voltage)"
   ],
   "id": "2799f780555463a9",
   "outputs": [
    {
     "name": "stdout",
     "output_type": "stream",
     "text": [
      "min Voltage\n",
      "Ch1_high_voltage      0.000000\n",
      "Ch1_low_voltage       0.000000\n",
      "Ch2_high_voltage      0.000000\n",
      "Ch2_low_voltage       0.000000\n",
      "Ch1_high_mean        -0.003645\n",
      "Ch1_low_diff_mean    -0.074016\n",
      "Ch2_high_diff_mean   -0.003612\n",
      "Ch2_low_diff_mean    -0.009115\n",
      "dtype: float64\n",
      "Max Voltage\n",
      "Ch1_high_voltage      1.385046\n",
      "Ch1_low_voltage       1.323705\n",
      "Ch2_high_voltage      1.373416\n",
      "Ch2_low_voltage       1.240882\n",
      "Ch1_high_mean         1.381400\n",
      "Ch1_low_diff_mean     1.249689\n",
      "Ch2_high_diff_mean    1.369804\n",
      "Ch2_low_diff_mean     1.231767\n",
      "dtype: float64\n",
      "mean Voltage\n",
      "Ch1_high_voltage      1.381400e+00\n",
      "Ch1_low_voltage       1.249689e+00\n",
      "Ch2_high_voltage      1.369804e+00\n",
      "Ch2_low_voltage       1.231767e+00\n",
      "Ch1_high_mean         9.434082e-17\n",
      "Ch1_low_diff_mean     1.060373e-16\n",
      "Ch2_high_diff_mean    1.173492e-16\n",
      "Ch2_low_diff_mean     7.658782e-17\n",
      "dtype: float64\n"
     ]
    }
   ],
   "execution_count": 123
  },
  {
   "metadata": {
    "ExecuteTime": {
     "end_time": "2025-10-22T13:31:23.695298Z",
     "start_time": "2025-10-22T13:31:23.494321Z"
    }
   },
   "cell_type": "code",
   "source": [
    "import numpy as np\n",
    "import matplotlib.pyplot as plt\n",
    "\n",
    "# --- Parameter ---\n",
    "v_max = 3.2                  # Maximale RAMP-Spannung\n",
    "samples = 10000                # Anzahl Schritte pro Ramp-Richtung\n",
    "threshold_high_ch1 =mean_voltage[\"Ch1_high_voltage\"]        # Schwelle zum Einschalten (steigend)\n",
    "threshold_low_ch1 = mean_voltage[\"Ch1_low_voltage\"]         # Schwelle zum Ausschalten (fallend)\n",
    "threshold_high_ch2 =mean_voltage[\"Ch2_high_voltage\"]        # Schwelle zum Einschalten (steigend)\n",
    "threshold_low_ch2 = mean_voltage[\"Ch2_low_voltage\"]\n",
    "# --- RAMP erzeugen ---\n",
    "ramp_up = np.linspace(0, v_max, samples)\n",
    "ramp_down = np.linspace(v_max, 0, samples)\n",
    "voltage_ramp = np.concatenate([ramp_up, ramp_down])\n",
    "\n",
    "# --- IO-Port Zustand berechnen ---\n",
    "io_state_ch1 = []\n",
    "io_state_ch2 = []\n",
    "state = 0  # Start mit LOW (0)\n",
    "\n",
    "for v in voltage_ramp:\n",
    "    if state == 0 and v >= threshold_high_ch1:\n",
    "        state = 1\n",
    "    elif state == 1 and v <= threshold_low_ch1:\n",
    "        state = 0\n",
    "    io_state_ch1.append(state)\n",
    "for v in voltage_ramp:\n",
    "    if state == 0 and v >= threshold_high_ch2:\n",
    "        state = 1\n",
    "    elif state == 1 and v <= threshold_low_ch2:\n",
    "        state = 0\n",
    "    io_state_ch2.append(state)\n",
    "\n",
    "\n",
    "# --- Plot ---\n",
    "plt.figure(figsize=(10, 4))\n",
    "plt.plot(voltage_ramp, io_state_ch1, drawstyle='steps-post', label=\"CH1 Zustand\")\n",
    "plt.plot(voltage_ramp, io_state_ch2, drawstyle='steps-post', label=\"CH2 Zustand\")\n",
    "plt.xlabel(\"Spannung (V)\")\n",
    "plt.ylabel(\"IO-Port (0 = LOW, 1 = HIGH)\")\n",
    "plt.title(\"IO-Port Schaltverhalten bei Voltage -Spannung\")\n",
    "plt.ylim(-0.2, 1.2)\n",
    "plt.xlim(0, v_max)\n",
    "plt.grid(True)\n",
    "plt.legend()\n",
    "plt.tight_layout()\n",
    "plt.show()\n",
    "\n"
   ],
   "id": "da0c7a5214b6f6c5",
   "outputs": [
    {
     "data": {
      "text/plain": [
       "<Figure size 1000x400 with 1 Axes>"
      ],
      "image/png": "[encoded data removed]"
     },
     "metadata": {},
     "output_type": "display_data",
     "jetTransient": {
      "display_id": null
     }
    }
   ],
   "execution_count": 130
  },
  {
   "metadata": {
    "ExecuteTime": {
     "end_time": "2025-10-22T12:19:01.587772752Z",
     "start_time": "2025-10-22T12:12:15.356303Z"
    }
   },
   "cell_type": "code",
   "source": "",
   "id": "f7fe0acb8a12e9f1",
   "outputs": [],
   "execution_count": null
  }
 ],
 "metadata": {
  "kernelspec": {
   "display_name": "Python 3 (ipykernel)",
   "language": "python",
   "name": "python3"
  },
  "language_info": {
   "codemirror_mode": {
    "name": "ipython",
    "version": 2
   },
   "file_extension": ".py",
   "mimetype": "text/x-python",
   "name": "python",
   "nbconvert_exporter": "python",
   "pygments_lexer": "ipython2",
   "version": "2.7.6"
  }
 },
 "nbformat": 4,
 "nbformat_minor": 5
}
