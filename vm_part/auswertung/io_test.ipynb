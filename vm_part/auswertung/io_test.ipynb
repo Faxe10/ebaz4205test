{
 "cells": [
  {
   "cell_type": "code",
   "id": "initial_id",
   "metadata": {
    "collapsed": true,
    "ExecuteTime": {
     "end_time": "2025-10-20T16:35:20.240969722Z",
     "start_time": "2025-10-20T16:35:20.008175821Z"
    }
   },
   "source": [
    "import pandas as pd\n",
    "from pynq import Overlay,allocate\n",
    "from pynq.lib import AxiGPIO\n",
    "import time\n",
    "\n",
    "import numpy as np\n",
    "import sys\n",
    "path_overlay = \"~/ebaztets/ebaz4205test/ebaz_part/pl/test.bit\"\n",
    "\n",
    "overlay = Overlay(path_overlay)\n",
    "high_channel1 = overlay.counts_ch1.channel1\n",
    "low_channel1 = overlay.counts_ch1.channel2\n",
    "high_channel2 = overlay.counts_ch2.channel1\n",
    "low_channel2 = overlay.counts_ch2.channel2\n",
    "start = overlay.start_measurment"
   ],
   "outputs": [
    {
     "ename": "ModuleNotFoundError",
     "evalue": "No module named 'pynq'",
     "output_type": "error",
     "traceback": [
      "\u001B[31m---------------------------------------------------------------------------\u001B[39m",
      "\u001B[31mModuleNotFoundError\u001B[39m                       Traceback (most recent call last)",
      "\u001B[36mCell\u001B[39m\u001B[36m \u001B[39m\u001B[32mIn[5]\u001B[39m\u001B[32m, line 2\u001B[39m\n\u001B[32m      1\u001B[39m \u001B[38;5;28;01mimport\u001B[39;00m\u001B[38;5;250m \u001B[39m\u001B[34;01mpandas\u001B[39;00m\u001B[38;5;250m \u001B[39m\u001B[38;5;28;01mas\u001B[39;00m\u001B[38;5;250m \u001B[39m\u001B[34;01mpd\u001B[39;00m\n\u001B[32m----> \u001B[39m\u001B[32m2\u001B[39m \u001B[38;5;28;01mfrom\u001B[39;00m\u001B[38;5;250m \u001B[39m\u001B[34;01mpynq\u001B[39;00m\u001B[38;5;250m \u001B[39m\u001B[38;5;28;01mimport\u001B[39;00m Overlay,allocate\n\u001B[32m      3\u001B[39m \u001B[38;5;28;01mfrom\u001B[39;00m\u001B[38;5;250m \u001B[39m\u001B[34;01mpynq\u001B[39;00m\u001B[34;01m.\u001B[39;00m\u001B[34;01mlib\u001B[39;00m\u001B[38;5;250m \u001B[39m\u001B[38;5;28;01mimport\u001B[39;00m AxiGPIO\n\u001B[32m      4\u001B[39m \u001B[38;5;28;01mimport\u001B[39;00m\u001B[38;5;250m \u001B[39m\u001B[34;01mtime\u001B[39;00m\n",
      "\u001B[31mModuleNotFoundError\u001B[39m: No module named 'pynq'"
     ]
    }
   ],
   "execution_count": 5
  },
  {
   "metadata": {
    "ExecuteTime": {
     "end_time": "2025-10-20T16:40:20.552832725Z",
     "start_time": "2025-10-20T16:40:20.540877976Z"
    }
   },
   "cell_type": "code",
   "source": [
    "\n",
    "def read_channels():\n",
    "    ch1_high_counts = high_channel1.read()\n",
    "    ch1_low_counts = low_channel1.read()\n",
    "    ch2_high_counts = high_channel2.read()\n",
    "    ch2_low_counts = low_channel2.read()\n",
    "    print('Ch1 high counts: ' + ch1_high_counts)\n",
    "    print('Ch1 low counts: ' + ch1_low_counts)\n",
    "    print('Ch2 high counts: ' + ch2_high_counts)\n",
    "    print('Ch2 low counts: ' + ch2_low_counts)\n",
    "\n",
    "def save_csv(filename,ch1_high_counts,ch1_low_counts, ch2_high_counts,ch2_low_counts):\n",
    "    row = {\n",
    "        \"Ch1 high Counts\":ch1_high_counts,\n",
    "        \"Ch1 low Counts\": ch1_low_counts,\n",
    "        \"Ch2 high counts\": ch2_high_counts,\n",
    "        \"Ch2 low counts\": ch2_low_counts,\n",
    "    }\n",
    "    df = pd.DataFrame([row])\n",
    "    df.to_csv(filename,mode=\"a\",header=False,index=False)\n",
    "\n",
    "def new_csv(filename):\n",
    "    row = {\n",
    "        \"Ch1 high Counts\":0,\n",
    "        \"Ch1 low Counts\":0,\n",
    "        \"Ch2 high counts\":0,\n",
    "        \"Ch2 low counts\":0,\n",
    "    }\n",
    "    df = pd.DataFrame([row])\n",
    "    df.to_csv(filename,mode=\"a\",header=True,index=False)\n",
    "file_name = \"measurment1.csv\"\n",
    "new_csv(file_name)\n",
    "\n",
    "#read_channels()\n",
    "#start.write(0,1)\n",
    "#start.write(0,0)\n",
    "#time.sleep(1)\n",
    "#read_channels()"
   ],
   "id": "dbe99209041067f3",
   "outputs": [],
   "execution_count": 14
  },
  {
   "metadata": {},
   "cell_type": "code",
   "source": "",
   "id": "5624927ea16343d",
   "outputs": [],
   "execution_count": null
  }
 ],
 "metadata": {
  "kernelspec": {
   "display_name": "Python",
   "language": "python",
   "name": "python"
  },
  "language_info": {
   "codemirror_mode": {
    "name": "ipython",
    "version": 2
   },
   "file_extension": ".py",
   "mimetype": "text/x-python",
   "name": "python",
   "nbconvert_exporter": "python",
   "pygments_lexer": "ipython2",
   "version": "2.7.6"
  }
 },
 "nbformat": 4,
 "nbformat_minor": 5
}
